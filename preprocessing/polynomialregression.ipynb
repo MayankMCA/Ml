{
 "cells": [
  {
   "cell_type": "code",
   "execution_count": null,
   "metadata": {},
   "outputs": [],
   "source": [
    "import pandas as pd\n",
    "import matplotlib.pyplot as plt\n",
    "import numpy as np"
   ]
  },
  {
   "cell_type": "code",
   "execution_count": null,
   "metadata": {},
   "outputs": [],
   "source": [
    "y=np.arange(1,10,.5)\n",
    "y2= y ** 2\n",
    "y3= y ** 3"
   ]
  },
  {
   "cell_type": "code",
   "execution_count": null,
   "metadata": {},
   "outputs": [],
   "source": [
    "plt.plot(y)\n",
    "plt.plot(y2)\n",
    "plt.plot(y3)"
   ]
  },
  {
   "cell_type": "code",
   "execution_count": null,
   "metadata": {},
   "outputs": [],
   "source": [
    "df=pd.read_csv(\"https://raw.githubusercontent.com/digipodium/Datasets/main/Position_Salaries.csv\")\n",
    "df"
   ]
  },
  {
   "cell_type": "code",
   "execution_count": null,
   "metadata": {},
   "outputs": [],
   "source": [
    "df.plot(kind='scatter',x='Level',y='Salary')\n",
    "plt.show()"
   ]
  },
  {
   "cell_type": "code",
   "execution_count": null,
   "metadata": {},
   "outputs": [],
   "source": [
    "from sklearn.preprocessing import PolynomialFeatures\n",
    "from sklearn.linear_model import LinearRegression\n",
    "from sklearn.metrics import mean_absolute_error"
   ]
  },
  {
   "cell_type": "code",
   "execution_count": null,
   "metadata": {},
   "outputs": [],
   "source": [
    "X = df[['Level']]\n",
    "y = df['Salary']"
   ]
  },
  {
   "cell_type": "code",
   "execution_count": null,
   "metadata": {},
   "outputs": [],
   "source": [
    "model_1=LinearRegression()\n",
    "model_1.fit(X,y)\n"
   ]
  },
  {
   "cell_type": "code",
   "execution_count": null,
   "metadata": {},
   "outputs": [],
   "source": [
    "df['pred1']= model_1.predict(X)"
   ]
  },
  {
   "cell_type": "code",
   "execution_count": null,
   "metadata": {},
   "outputs": [],
   "source": [
    "ax=df.plot(kind='scatter',x='Level',y='Salary')\n",
    "df.plot(x='Level',y='pred1',color='red',ax=ax)\n",
    "plt.show()"
   ]
  },
  {
   "cell_type": "code",
   "execution_count": null,
   "metadata": {},
   "outputs": [],
   "source": [
    "pf=PolynomialFeatures(degree=2)\n",
    "pX2=pf.fit_transform(X)"
   ]
  },
  {
   "cell_type": "code",
   "execution_count": null,
   "metadata": {},
   "outputs": [],
   "source": [
    "\n",
    "pf=PolynomialFeatures(degree=2)\n",
    "pX2=pf.fit_transform(X)\n",
    "model_2=LinearRegression()\n",
    "model_2.fit(pX2,y)\n",
    "df['pred2']= model_2.predict(pf.transform(X))\n",
    "ax=df.plot(kind='scatter',x='Level',y='Salary')\n",
    "df.plot(x='Level',y='pred2',color='red',ax=ax)\n",
    "print('score',model_2.score(pf.transform(X),y))\n",
    "\n",
    "plt.show()\n"
   ]
  },
  {
   "cell_type": "code",
   "execution_count": null,
   "metadata": {},
   "outputs": [],
   "source": [
    "def Cploy(X,y,degree):\n",
    "    \n",
    "    pf=PolynomialFeatures(degree)\n",
    "    pX2=pf.fit_transform(X)\n",
    "    model=LinearRegression()\n",
    "    model.fit(pX2,y)\n",
    "    df[f'pred_{degree}']=model.predict(pf.transform(X))\n",
    "    ax=df.plot(kind='scatter',x='Level',y='Salary')\n",
    "    df.plot(x='Level',y=f'pred_{degree}',color='red',ax=ax)\n",
    "    mae = mean_absolute_error(y,df[f'pred_{degree}'])\n",
    "    print('degree',degree,'score',model.score(pf.transform(X),y),', mae=> ',mae)\n",
    "    plt.show()\n"
   ]
  },
  {
   "cell_type": "code",
   "execution_count": null,
   "metadata": {},
   "outputs": [],
   "source": [
    "for i in range (2,10):\n",
    "    Cploy(X,y,i)"
   ]
  },
  {
   "cell_type": "code",
   "execution_count": null,
   "metadata": {},
   "outputs": [],
   "source": [
    "p =PolynomialFeatures(degree=8)\n",
    "m = LinearRegression()\n",
    "px = p.fit_transform(X)\n",
    "m.fit(px,y)"
   ]
  },
  {
   "cell_type": "code",
   "execution_count": null,
   "metadata": {},
   "outputs": [],
   "source": [
    "df"
   ]
  },
  {
   "cell_type": "markdown",
   "metadata": {},
   "source": [
    "#example2\n",
    "\n"
   ]
  },
  {
   "cell_type": "code",
   "execution_count": null,
   "metadata": {},
   "outputs": [],
   "source": [
    "df=pd.read_csv(\"new_automobile.csv\")\n",
    "df.head()"
   ]
  },
  {
   "cell_type": "code",
   "execution_count": null,
   "metadata": {},
   "outputs": [],
   "source": [
    "print(df.columns.tolist())"
   ]
  },
  {
   "cell_type": "code",
   "execution_count": null,
   "metadata": {},
   "outputs": [],
   "source": [
    "X=df[['horsepower']]\n",
    "y=df['price']"
   ]
  },
  {
   "cell_type": "code",
   "execution_count": null,
   "metadata": {},
   "outputs": [],
   "source": [
    "df.sort_values(by='horsepower',inplace=True)\n",
    "X=df[['horsepower']]\n",
    "y=df['price']"
   ]
  },
  {
   "cell_type": "code",
   "execution_count": null,
   "metadata": {},
   "outputs": [],
   "source": [
    "df.plot(kind='scatter',x='horsepower',y='price')"
   ]
  },
  {
   "cell_type": "code",
   "execution_count": null,
   "metadata": {},
   "outputs": [],
   "source": [
    "degree=5\n",
    "pf=PolynomialFeatures(degree)\n",
    "pX=pf.fit_transform(X)\n",
    "model=LinearRegression()\n",
    "model.fit(pX,y)\n",
    "df[f'pred_{degree}']=model.predict(pf.transform(X))\n",
    "ax=df.plot(kind='scatter',x='horsepower',y='price')\n",
    "df.plot(x='horsepower',y=f'pred_{degree}',color='red',ax=ax)\n",
    "mae = mean_absolute_error(y,df[f'pred_{degree}'])\n",
    "print('degree',degree,'score',model.score(pf.transform(X),y),', mae=> ',mae)\n",
    "plt.show()\n"
   ]
  },
  {
   "cell_type": "code",
   "execution_count": null,
   "metadata": {},
   "outputs": [],
   "source": [
    "def Cploy(X,y,degree):\n",
    "    \n",
    "    pf=PolynomialFeatures(degree)\n",
    "    pX=pf.fit_transform(X)\n",
    "    model=LinearRegression()\n",
    "    model.fit(pX,y)\n",
    "    df[f'pred_{degree}']=model.predict(pf.transform(X))\n",
    "    ax=df.plot(kind='scatter',x='horsepower',y='price')\n",
    "    df.plot(x='horsepower',y=f'pred_{degree}',color='red',ax=ax)\n",
    "    mae = mean_absolute_error(y,df[f'pred_{degree}'])\n",
    "    print('degree',degree,'score',model.score(pf.transform(X),y),', mae=> ',mae)\n",
    "    plt.show()\n"
   ]
  },
  {
   "cell_type": "code",
   "execution_count": null,
   "metadata": {},
   "outputs": [],
   "source": [
    "for i in range(2,12):\n",
    "    Cploy(X,y,i)"
   ]
  },
  {
   "cell_type": "markdown",
   "metadata": {},
   "source": [
    "Desscision tree "
   ]
  }
 ],
 "metadata": {
  "interpreter": {
   "hash": "d1bc28e588f3e01456513975707331157688d95893814c8ed97eb0cd4710202c"
  },
  "kernelspec": {
   "display_name": "Python 3.9.7 ('digi12')",
   "language": "python",
   "name": "python3"
  },
  "language_info": {
   "codemirror_mode": {
    "name": "ipython",
    "version": 3
   },
   "file_extension": ".py",
   "mimetype": "text/x-python",
   "name": "python",
   "nbconvert_exporter": "python",
   "pygments_lexer": "ipython3",
   "version": "3.9.7"
  },
  "orig_nbformat": 4
 },
 "nbformat": 4,
 "nbformat_minor": 2
}
