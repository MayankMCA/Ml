{
 "cells": [
  {
   "cell_type": "code",
   "execution_count": 138,
   "metadata": {},
   "outputs": [],
   "source": [
    "import numpy as pd\n",
    "import matplotlib.pyplot as plt\n",
    "import pandas as pd\n",
    "from sklearn.preprocessing import LabelEncoder,OneHotEncoder,StandardScaler\n",
    "from sklearn.impute import SimpleImputer\n",
    "from sklearn.model_selection import train_test_split\n"
   ]
  },
  {
   "cell_type": "code",
   "execution_count": 112,
   "metadata": {},
   "outputs": [
    {
     "data": {
      "text/html": [
       "<div>\n",
       "<style scoped>\n",
       "    .dataframe tbody tr th:only-of-type {\n",
       "        vertical-align: middle;\n",
       "    }\n",
       "\n",
       "    .dataframe tbody tr th {\n",
       "        vertical-align: top;\n",
       "    }\n",
       "\n",
       "    .dataframe thead th {\n",
       "        text-align: right;\n",
       "    }\n",
       "</style>\n",
       "<table border=\"1\" class=\"dataframe\">\n",
       "  <thead>\n",
       "    <tr style=\"text-align: right;\">\n",
       "      <th></th>\n",
       "      <th>Mendacium</th>\n",
       "      <th>Depth</th>\n",
       "      <th>Price</th>\n",
       "    </tr>\n",
       "  </thead>\n",
       "  <tbody>\n",
       "    <tr>\n",
       "      <th>0</th>\n",
       "      <td>3.359</td>\n",
       "      <td>1722.533</td>\n",
       "      <td>74.048691</td>\n",
       "    </tr>\n",
       "    <tr>\n",
       "      <th>1</th>\n",
       "      <td>1.348</td>\n",
       "      <td>2062.571</td>\n",
       "      <td>83.321907</td>\n",
       "    </tr>\n",
       "    <tr>\n",
       "      <th>2</th>\n",
       "      <td>0.418</td>\n",
       "      <td>2013.507</td>\n",
       "      <td>82.748964</td>\n",
       "    </tr>\n",
       "    <tr>\n",
       "      <th>3</th>\n",
       "      <td>8.193</td>\n",
       "      <td>1420.607</td>\n",
       "      <td>84.760494</td>\n",
       "    </tr>\n",
       "    <tr>\n",
       "      <th>4</th>\n",
       "      <td>5.210</td>\n",
       "      <td>951.957</td>\n",
       "      <td>54.588671</td>\n",
       "    </tr>\n",
       "    <tr>\n",
       "      <th>5</th>\n",
       "      <td>11.189</td>\n",
       "      <td>1574.612</td>\n",
       "      <td>115.311020</td>\n",
       "    </tr>\n",
       "    <tr>\n",
       "      <th>6</th>\n",
       "      <td>11.657</td>\n",
       "      <td>1372.887</td>\n",
       "      <td>117.122617</td>\n",
       "    </tr>\n",
       "    <tr>\n",
       "      <th>7</th>\n",
       "      <td>11.895</td>\n",
       "      <td>1251.325</td>\n",
       "      <td>118.148288</td>\n",
       "    </tr>\n",
       "    <tr>\n",
       "      <th>8</th>\n",
       "      <td>4.879</td>\n",
       "      <td>153.332</td>\n",
       "      <td>57.391876</td>\n",
       "    </tr>\n",
       "    <tr>\n",
       "      <th>9</th>\n",
       "      <td>3.419</td>\n",
       "      <td>2142.666</td>\n",
       "      <td>83.430130</td>\n",
       "    </tr>\n",
       "    <tr>\n",
       "      <th>10</th>\n",
       "      <td>6.410</td>\n",
       "      <td>2167.110</td>\n",
       "      <td>97.218165</td>\n",
       "    </tr>\n",
       "    <tr>\n",
       "      <th>11</th>\n",
       "      <td>6.543</td>\n",
       "      <td>523.084</td>\n",
       "      <td>55.976524</td>\n",
       "    </tr>\n",
       "    <tr>\n",
       "      <th>12</th>\n",
       "      <td>8.146</td>\n",
       "      <td>2899.092</td>\n",
       "      <td>148.988310</td>\n",
       "    </tr>\n",
       "    <tr>\n",
       "      <th>13</th>\n",
       "      <td>7.043</td>\n",
       "      <td>1228.714</td>\n",
       "      <td>64.071936</td>\n",
       "    </tr>\n",
       "    <tr>\n",
       "      <th>14</th>\n",
       "      <td>12.976</td>\n",
       "      <td>228.467</td>\n",
       "      <td>121.589231</td>\n",
       "    </tr>\n",
       "    <tr>\n",
       "      <th>15</th>\n",
       "      <td>10.126</td>\n",
       "      <td>2828.650</td>\n",
       "      <td>152.359718</td>\n",
       "    </tr>\n",
       "    <tr>\n",
       "      <th>16</th>\n",
       "      <td>2.570</td>\n",
       "      <td>2415.989</td>\n",
       "      <td>111.205366</td>\n",
       "    </tr>\n",
       "    <tr>\n",
       "      <th>17</th>\n",
       "      <td>5.465</td>\n",
       "      <td>1146.022</td>\n",
       "      <td>71.462005</td>\n",
       "    </tr>\n",
       "    <tr>\n",
       "      <th>18</th>\n",
       "      <td>10.004</td>\n",
       "      <td>629.207</td>\n",
       "      <td>68.130098</td>\n",
       "    </tr>\n",
       "    <tr>\n",
       "      <th>19</th>\n",
       "      <td>11.612</td>\n",
       "      <td>2008.463</td>\n",
       "      <td>139.191904</td>\n",
       "    </tr>\n",
       "    <tr>\n",
       "      <th>20</th>\n",
       "      <td>5.901</td>\n",
       "      <td>291.673</td>\n",
       "      <td>57.402898</td>\n",
       "    </tr>\n",
       "    <tr>\n",
       "      <th>21</th>\n",
       "      <td>3.681</td>\n",
       "      <td>1958.027</td>\n",
       "      <td>91.227710</td>\n",
       "    </tr>\n",
       "    <tr>\n",
       "      <th>22</th>\n",
       "      <td>11.091</td>\n",
       "      <td>617.128</td>\n",
       "      <td>80.701506</td>\n",
       "    </tr>\n",
       "    <tr>\n",
       "      <th>23</th>\n",
       "      <td>8.769</td>\n",
       "      <td>332.900</td>\n",
       "      <td>68.946091</td>\n",
       "    </tr>\n",
       "    <tr>\n",
       "      <th>24</th>\n",
       "      <td>0.458</td>\n",
       "      <td>1284.385</td>\n",
       "      <td>56.197119</td>\n",
       "    </tr>\n",
       "  </tbody>\n",
       "</table>\n",
       "</div>"
      ],
      "text/plain": [
       "    Mendacium     Depth       Price\n",
       "0       3.359  1722.533   74.048691\n",
       "1       1.348  2062.571   83.321907\n",
       "2       0.418  2013.507   82.748964\n",
       "3       8.193  1420.607   84.760494\n",
       "4       5.210   951.957   54.588671\n",
       "5      11.189  1574.612  115.311020\n",
       "6      11.657  1372.887  117.122617\n",
       "7      11.895  1251.325  118.148288\n",
       "8       4.879   153.332   57.391876\n",
       "9       3.419  2142.666   83.430130\n",
       "10      6.410  2167.110   97.218165\n",
       "11      6.543   523.084   55.976524\n",
       "12      8.146  2899.092  148.988310\n",
       "13      7.043  1228.714   64.071936\n",
       "14     12.976   228.467  121.589231\n",
       "15     10.126  2828.650  152.359718\n",
       "16      2.570  2415.989  111.205366\n",
       "17      5.465  1146.022   71.462005\n",
       "18     10.004   629.207   68.130098\n",
       "19     11.612  2008.463  139.191904\n",
       "20      5.901   291.673   57.402898\n",
       "21      3.681  1958.027   91.227710\n",
       "22     11.091   617.128   80.701506\n",
       "23      8.769   332.900   68.946091\n",
       "24      0.458  1284.385   56.197119"
      ]
     },
     "execution_count": 112,
     "metadata": {},
     "output_type": "execute_result"
    }
   ],
   "source": [
    "data3_url=\"https://raw.githubusercontent.com/digipodium/Datasets/main/oil_dataset.csv\"\n",
    "df=pd.read_csv(data3_url)\n",
    "df.head(25)"
   ]
  },
  {
   "cell_type": "code",
   "execution_count": 113,
   "metadata": {},
   "outputs": [
    {
     "data": {
      "text/plain": [
       "Mendacium    0\n",
       "Depth        0\n",
       "Price        0\n",
       "dtype: int64"
      ]
     },
     "execution_count": 113,
     "metadata": {},
     "output_type": "execute_result"
    }
   ],
   "source": [
    "df.isnull().sum()\n",
    "#df.notnull()"
   ]
  },
  {
   "cell_type": "code",
   "execution_count": 114,
   "metadata": {},
   "outputs": [
    {
     "data": {
      "text/plain": [
       "(1000, 3)"
      ]
     },
     "execution_count": 114,
     "metadata": {},
     "output_type": "execute_result"
    }
   ],
   "source": [
    "df.shape"
   ]
  },
  {
   "cell_type": "code",
   "execution_count": 115,
   "metadata": {},
   "outputs": [
    {
     "data": {
      "text/html": [
       "<div>\n",
       "<style scoped>\n",
       "    .dataframe tbody tr th:only-of-type {\n",
       "        vertical-align: middle;\n",
       "    }\n",
       "\n",
       "    .dataframe tbody tr th {\n",
       "        vertical-align: top;\n",
       "    }\n",
       "\n",
       "    .dataframe thead th {\n",
       "        text-align: right;\n",
       "    }\n",
       "</style>\n",
       "<table border=\"1\" class=\"dataframe\">\n",
       "  <thead>\n",
       "    <tr style=\"text-align: right;\">\n",
       "      <th></th>\n",
       "      <th>Mendacium</th>\n",
       "      <th>Depth</th>\n",
       "      <th>Price</th>\n",
       "    </tr>\n",
       "  </thead>\n",
       "  <tbody>\n",
       "    <tr>\n",
       "      <th>0</th>\n",
       "      <td>3.359</td>\n",
       "      <td>1722.533</td>\n",
       "      <td>74.048691</td>\n",
       "    </tr>\n",
       "    <tr>\n",
       "      <th>1</th>\n",
       "      <td>1.348</td>\n",
       "      <td>2062.571</td>\n",
       "      <td>83.321907</td>\n",
       "    </tr>\n",
       "    <tr>\n",
       "      <th>2</th>\n",
       "      <td>0.418</td>\n",
       "      <td>2013.507</td>\n",
       "      <td>82.748964</td>\n",
       "    </tr>\n",
       "    <tr>\n",
       "      <th>3</th>\n",
       "      <td>8.193</td>\n",
       "      <td>1420.607</td>\n",
       "      <td>84.760494</td>\n",
       "    </tr>\n",
       "    <tr>\n",
       "      <th>4</th>\n",
       "      <td>5.210</td>\n",
       "      <td>951.957</td>\n",
       "      <td>54.588671</td>\n",
       "    </tr>\n",
       "    <tr>\n",
       "      <th>...</th>\n",
       "      <td>...</td>\n",
       "      <td>...</td>\n",
       "      <td>...</td>\n",
       "    </tr>\n",
       "    <tr>\n",
       "      <th>995</th>\n",
       "      <td>1.755</td>\n",
       "      <td>247.752</td>\n",
       "      <td>51.477497</td>\n",
       "    </tr>\n",
       "    <tr>\n",
       "      <th>996</th>\n",
       "      <td>2.771</td>\n",
       "      <td>1609.462</td>\n",
       "      <td>73.971975</td>\n",
       "    </tr>\n",
       "    <tr>\n",
       "      <th>997</th>\n",
       "      <td>11.559</td>\n",
       "      <td>1943.008</td>\n",
       "      <td>123.883064</td>\n",
       "    </tr>\n",
       "    <tr>\n",
       "      <th>998</th>\n",
       "      <td>8.645</td>\n",
       "      <td>2250.942</td>\n",
       "      <td>116.879069</td>\n",
       "    </tr>\n",
       "    <tr>\n",
       "      <th>999</th>\n",
       "      <td>7.523</td>\n",
       "      <td>2291.386</td>\n",
       "      <td>100.888292</td>\n",
       "    </tr>\n",
       "  </tbody>\n",
       "</table>\n",
       "<p>1000 rows × 3 columns</p>\n",
       "</div>"
      ],
      "text/plain": [
       "     Mendacium     Depth       Price\n",
       "0        3.359  1722.533   74.048691\n",
       "1        1.348  2062.571   83.321907\n",
       "2        0.418  2013.507   82.748964\n",
       "3        8.193  1420.607   84.760494\n",
       "4        5.210   951.957   54.588671\n",
       "..         ...       ...         ...\n",
       "995      1.755   247.752   51.477497\n",
       "996      2.771  1609.462   73.971975\n",
       "997     11.559  1943.008  123.883064\n",
       "998      8.645  2250.942  116.879069\n",
       "999      7.523  2291.386  100.888292\n",
       "\n",
       "[1000 rows x 3 columns]"
      ]
     },
     "execution_count": 115,
     "metadata": {},
     "output_type": "execute_result"
    }
   ],
   "source": [
    "df.dropna()"
   ]
  },
  {
   "cell_type": "code",
   "execution_count": 116,
   "metadata": {},
   "outputs": [],
   "source": [
    "df.drop(['Mendacium'],axis=1,inplace=True)"
   ]
  },
  {
   "cell_type": "code",
   "execution_count": 117,
   "metadata": {},
   "outputs": [
    {
     "data": {
      "text/html": [
       "<div>\n",
       "<style scoped>\n",
       "    .dataframe tbody tr th:only-of-type {\n",
       "        vertical-align: middle;\n",
       "    }\n",
       "\n",
       "    .dataframe tbody tr th {\n",
       "        vertical-align: top;\n",
       "    }\n",
       "\n",
       "    .dataframe thead th {\n",
       "        text-align: right;\n",
       "    }\n",
       "</style>\n",
       "<table border=\"1\" class=\"dataframe\">\n",
       "  <thead>\n",
       "    <tr style=\"text-align: right;\">\n",
       "      <th></th>\n",
       "      <th>Depth</th>\n",
       "      <th>Price</th>\n",
       "    </tr>\n",
       "  </thead>\n",
       "  <tbody>\n",
       "    <tr>\n",
       "      <th>0</th>\n",
       "      <td>1722.533</td>\n",
       "      <td>74.048691</td>\n",
       "    </tr>\n",
       "    <tr>\n",
       "      <th>1</th>\n",
       "      <td>2062.571</td>\n",
       "      <td>83.321907</td>\n",
       "    </tr>\n",
       "    <tr>\n",
       "      <th>2</th>\n",
       "      <td>2013.507</td>\n",
       "      <td>82.748964</td>\n",
       "    </tr>\n",
       "    <tr>\n",
       "      <th>3</th>\n",
       "      <td>1420.607</td>\n",
       "      <td>84.760494</td>\n",
       "    </tr>\n",
       "    <tr>\n",
       "      <th>4</th>\n",
       "      <td>951.957</td>\n",
       "      <td>54.588671</td>\n",
       "    </tr>\n",
       "    <tr>\n",
       "      <th>...</th>\n",
       "      <td>...</td>\n",
       "      <td>...</td>\n",
       "    </tr>\n",
       "    <tr>\n",
       "      <th>995</th>\n",
       "      <td>247.752</td>\n",
       "      <td>51.477497</td>\n",
       "    </tr>\n",
       "    <tr>\n",
       "      <th>996</th>\n",
       "      <td>1609.462</td>\n",
       "      <td>73.971975</td>\n",
       "    </tr>\n",
       "    <tr>\n",
       "      <th>997</th>\n",
       "      <td>1943.008</td>\n",
       "      <td>123.883064</td>\n",
       "    </tr>\n",
       "    <tr>\n",
       "      <th>998</th>\n",
       "      <td>2250.942</td>\n",
       "      <td>116.879069</td>\n",
       "    </tr>\n",
       "    <tr>\n",
       "      <th>999</th>\n",
       "      <td>2291.386</td>\n",
       "      <td>100.888292</td>\n",
       "    </tr>\n",
       "  </tbody>\n",
       "</table>\n",
       "<p>1000 rows × 2 columns</p>\n",
       "</div>"
      ],
      "text/plain": [
       "        Depth       Price\n",
       "0    1722.533   74.048691\n",
       "1    2062.571   83.321907\n",
       "2    2013.507   82.748964\n",
       "3    1420.607   84.760494\n",
       "4     951.957   54.588671\n",
       "..        ...         ...\n",
       "995   247.752   51.477497\n",
       "996  1609.462   73.971975\n",
       "997  1943.008  123.883064\n",
       "998  2250.942  116.879069\n",
       "999  2291.386  100.888292\n",
       "\n",
       "[1000 rows x 2 columns]"
      ]
     },
     "execution_count": 117,
     "metadata": {},
     "output_type": "execute_result"
    }
   ],
   "source": [
    "df"
   ]
  },
  {
   "cell_type": "code",
   "execution_count": 118,
   "metadata": {},
   "outputs": [
    {
     "data": {
      "text/plain": [
       "(1000, 2)"
      ]
     },
     "execution_count": 118,
     "metadata": {},
     "output_type": "execute_result"
    }
   ],
   "source": [
    "df.shape"
   ]
  },
  {
   "cell_type": "code",
   "execution_count": 119,
   "metadata": {},
   "outputs": [
    {
     "data": {
      "text/plain": [
       "<AxesSubplot:xlabel='Depth', ylabel='Price'>"
      ]
     },
     "execution_count": 119,
     "metadata": {},
     "output_type": "execute_result"
    },
    {
     "data": {
      "image/png": "[encoded data removed]",
      "text/plain": [
       "<Figure size 1800x1440 with 1 Axes>"
      ]
     },
     "metadata": {
      "needs_background": "light"
     },
     "output_type": "display_data"
    }
   ],
   "source": [
    "df.plot(x='Depth',y='Price',kind='scatter',figsize=(25,20))"
   ]
  },
  {
   "cell_type": "code",
   "execution_count": 120,
   "metadata": {},
   "outputs": [],
   "source": [
    "x=df[['Depth']]\n",
    "y=df[['Price']]"
   ]
  },
  {
   "cell_type": "code",
   "execution_count": 121,
   "metadata": {},
   "outputs": [],
   "source": [
    "xtrain,xtest,ytrain,ytest=train_test_split(x,y,test_size=.2,random_state=2)"
   ]
  },
  {
   "cell_type": "code",
   "execution_count": 122,
   "metadata": {},
   "outputs": [
    {
     "data": {
      "text/plain": [
       "LinearRegression()"
      ]
     },
     "execution_count": 122,
     "metadata": {},
     "output_type": "execute_result"
    }
   ],
   "source": [
    "from sklearn.linear_model import LinearRegression\n",
    "reg = LinearRegression()\n",
    "reg.fit(xtrain,ytrain)"
   ]
  },
  {
   "cell_type": "code",
   "execution_count": 123,
   "metadata": {},
   "outputs": [
    {
     "name": "stdout",
     "output_type": "stream",
     "text": [
      "the depht of 59.228500561526644% fot our model\n"
     ]
    }
   ],
   "source": [
    "score = reg.score(xtest,ytest) * 100\n",
    "print(f'the depht of {score}% fot our model')"
   ]
  },
  {
   "cell_type": "code",
   "execution_count": 124,
   "metadata": {},
   "outputs": [
    {
     "data": {
      "text/plain": [
       "array([[ 69.03027651],\n",
       "       [ 99.8515223 ],\n",
       "       [112.13022116],\n",
       "       [ 66.60333684],\n",
       "       [ 76.78569938],\n",
       "       [ 58.32153726],\n",
       "       [ 86.06200793],\n",
       "       [ 78.52612634],\n",
       "       [ 50.48720722],\n",
       "       [119.05759757],\n",
       "       [113.13932752],\n",
       "       [102.97208474],\n",
       "       [ 97.73208553],\n",
       "       [ 59.71258451],\n",
       "       [ 79.50101734],\n",
       "       [118.57068895],\n",
       "       [ 93.54675511],\n",
       "       [116.96567239],\n",
       "       [ 86.97302445],\n",
       "       [104.61892008],\n",
       "       [ 68.32176614],\n",
       "       [107.64156681],\n",
       "       [ 98.28371022],\n",
       "       [ 78.4388322 ],\n",
       "       [ 79.4192081 ],\n",
       "       [ 56.78004691],\n",
       "       [117.05935107],\n",
       "       [128.87911724],\n",
       "       [129.46524748],\n",
       "       [ 52.95506602],\n",
       "       [119.06044159],\n",
       "       [118.86629338],\n",
       "       [125.60703793],\n",
       "       [ 80.90068372],\n",
       "       [ 81.63766336],\n",
       "       [ 55.08709775],\n",
       "       [ 57.33683728],\n",
       "       [ 96.56121802],\n",
       "       [ 65.54196428],\n",
       "       [ 77.0377438 ],\n",
       "       [129.53393938],\n",
       "       [ 57.64785168],\n",
       "       [100.04079504],\n",
       "       [105.28613405],\n",
       "       [105.03356725],\n",
       "       [120.79544169],\n",
       "       [102.03663282],\n",
       "       [116.35214663],\n",
       "       [ 54.31012765],\n",
       "       [121.56660766],\n",
       "       [130.96158168],\n",
       "       [ 80.52611408],\n",
       "       [128.08514103],\n",
       "       [ 78.42124568],\n",
       "       [105.70066514],\n",
       "       [ 96.8113761 ],\n",
       "       [ 78.70767958],\n",
       "       [ 69.46805315],\n",
       "       [ 97.97124478],\n",
       "       [ 64.70352842],\n",
       "       [ 64.25666831],\n",
       "       [121.10869068],\n",
       "       [108.25001395],\n",
       "       [ 51.86179975],\n",
       "       [ 84.65334514],\n",
       "       [ 72.15014246],\n",
       "       [ 82.14709201],\n",
       "       [107.58517967],\n",
       "       [ 79.58317483],\n",
       "       [103.32355394],\n",
       "       [122.29520033],\n",
       "       [111.47795283],\n",
       "       [ 61.25718006],\n",
       "       [100.33036317],\n",
       "       [124.25075743],\n",
       "       [ 63.11807178],\n",
       "       [120.16818917],\n",
       "       [ 83.69995845],\n",
       "       [ 56.62951676],\n",
       "       [ 98.93386004],\n",
       "       [ 98.94393021],\n",
       "       [ 99.70845045],\n",
       "       [ 64.47661589],\n",
       "       [ 50.2407928 ],\n",
       "       [135.63425603],\n",
       "       [105.17370801],\n",
       "       [113.11082923],\n",
       "       [121.47066536],\n",
       "       [ 99.6377271 ],\n",
       "       [ 68.97670437],\n",
       "       [122.55499327],\n",
       "       [112.64379976],\n",
       "       [131.13204903],\n",
       "       [115.91814268],\n",
       "       [ 53.61789787],\n",
       "       [100.7762656 ],\n",
       "       [ 64.09702567],\n",
       "       [111.03858005],\n",
       "       [ 59.92344861],\n",
       "       [ 49.11003184],\n",
       "       [ 93.81804023],\n",
       "       [106.51420127],\n",
       "       [127.8656868 ],\n",
       "       [ 60.62450067],\n",
       "       [ 64.17216015],\n",
       "       [ 87.30420821],\n",
       "       [ 55.36084963],\n",
       "       [ 93.0238899 ],\n",
       "       [ 60.61396617],\n",
       "       [116.17053535],\n",
       "       [127.24754677],\n",
       "       [134.81958809],\n",
       "       [ 85.18657073],\n",
       "       [134.55355571],\n",
       "       [114.45564657],\n",
       "       [127.83341583],\n",
       "       [123.01148823],\n",
       "       [ 71.9660354 ],\n",
       "       [117.94854406],\n",
       "       [ 90.47767532],\n",
       "       [ 93.26870818],\n",
       "       [ 71.96661581],\n",
       "       [ 84.35231384],\n",
       "       [107.88380225],\n",
       "       [117.80584948],\n",
       "       [129.82989207],\n",
       "       [121.63335518],\n",
       "       [ 49.78548768],\n",
       "       [104.01816341],\n",
       "       [ 50.27767806],\n",
       "       [ 76.47758704],\n",
       "       [115.43776371],\n",
       "       [123.89821447],\n",
       "       [ 70.63607664],\n",
       "       [106.1936681 ],\n",
       "       [130.02552033],\n",
       "       [ 83.46898302],\n",
       "       [ 79.83994962],\n",
       "       [ 63.37621054],\n",
       "       [ 98.97025195],\n",
       "       [107.17468245],\n",
       "       [129.67428329],\n",
       "       [ 92.80931114],\n",
       "       [ 98.00241297],\n",
       "       [122.67589333],\n",
       "       [132.06703663],\n",
       "       [ 90.54186901],\n",
       "       [112.12801559],\n",
       "       [ 70.56808123],\n",
       "       [ 64.91529217],\n",
       "       [ 56.16240023],\n",
       "       [100.24748017],\n",
       "       [ 92.29538429],\n",
       "       [ 78.75269063],\n",
       "       [121.36273753],\n",
       "       [100.31016479],\n",
       "       [115.05393647],\n",
       "       [ 66.90126293],\n",
       "       [ 78.74993366],\n",
       "       [ 78.79587337],\n",
       "       [111.63820491],\n",
       "       [ 94.67618112],\n",
       "       [126.94111763],\n",
       "       [ 54.96956408],\n",
       "       [123.9128699 ],\n",
       "       [111.7134845 ],\n",
       "       [103.21777364],\n",
       "       [ 60.43563422],\n",
       "       [ 57.55753939],\n",
       "       [ 57.54662762],\n",
       "       [ 88.57934695],\n",
       "       [ 97.87675352],\n",
       "       [ 90.65293108],\n",
       "       [110.47851036],\n",
       "       [111.52226738],\n",
       "       [108.72946426],\n",
       "       [120.2964895 ],\n",
       "       [ 92.97562854],\n",
       "       [ 73.89631551],\n",
       "       [ 61.88759584],\n",
       "       [ 85.44688604],\n",
       "       [ 68.17216464],\n",
       "       [ 74.32599539],\n",
       "       [ 71.75563562],\n",
       "       [118.00289976],\n",
       "       [ 49.70298195],\n",
       "       [130.55079426],\n",
       "       [ 83.97980466],\n",
       "       [103.48778185],\n",
       "       [127.68825449],\n",
       "       [134.1392858 ],\n",
       "       [ 84.30785419],\n",
       "       [ 83.42194054],\n",
       "       [105.98231064],\n",
       "       [ 54.08211233],\n",
       "       [124.70234791],\n",
       "       [ 73.59783803],\n",
       "       [130.87097919],\n",
       "       [131.78652294],\n",
       "       [ 92.61080984]])"
      ]
     },
     "execution_count": 124,
     "metadata": {},
     "output_type": "execute_result"
    }
   ],
   "source": [
    "reg.predict(xtest)"
   ]
  },
  {
   "cell_type": "code",
   "execution_count": 125,
   "metadata": {},
   "outputs": [
    {
     "data": {
      "text/html": [
       "<div>\n",
       "<style scoped>\n",
       "    .dataframe tbody tr th:only-of-type {\n",
       "        vertical-align: middle;\n",
       "    }\n",
       "\n",
       "    .dataframe tbody tr th {\n",
       "        vertical-align: top;\n",
       "    }\n",
       "\n",
       "    .dataframe thead th {\n",
       "        text-align: right;\n",
       "    }\n",
       "</style>\n",
       "<table border=\"1\" class=\"dataframe\">\n",
       "  <thead>\n",
       "    <tr style=\"text-align: right;\">\n",
       "      <th></th>\n",
       "      <th>Depth</th>\n",
       "      <th>Price</th>\n",
       "      <th>prediction</th>\n",
       "    </tr>\n",
       "  </thead>\n",
       "  <tbody>\n",
       "    <tr>\n",
       "      <th>0</th>\n",
       "      <td>1722.533</td>\n",
       "      <td>74.048691</td>\n",
       "      <td>98.861337</td>\n",
       "    </tr>\n",
       "    <tr>\n",
       "      <th>1</th>\n",
       "      <td>2062.571</td>\n",
       "      <td>83.321907</td>\n",
       "      <td>108.729464</td>\n",
       "    </tr>\n",
       "    <tr>\n",
       "      <th>2</th>\n",
       "      <td>2013.507</td>\n",
       "      <td>82.748964</td>\n",
       "      <td>107.305595</td>\n",
       "    </tr>\n",
       "    <tr>\n",
       "      <th>3</th>\n",
       "      <td>1420.607</td>\n",
       "      <td>84.760494</td>\n",
       "      <td>90.099246</td>\n",
       "    </tr>\n",
       "    <tr>\n",
       "      <th>4</th>\n",
       "      <td>951.957</td>\n",
       "      <td>54.588671</td>\n",
       "      <td>76.498714</td>\n",
       "    </tr>\n",
       "  </tbody>\n",
       "</table>\n",
       "</div>"
      ],
      "text/plain": [
       "      Depth      Price  prediction\n",
       "0  1722.533  74.048691   98.861337\n",
       "1  2062.571  83.321907  108.729464\n",
       "2  2013.507  82.748964  107.305595\n",
       "3  1420.607  84.760494   90.099246\n",
       "4   951.957  54.588671   76.498714"
      ]
     },
     "execution_count": 125,
     "metadata": {},
     "output_type": "execute_result"
    }
   ],
   "source": [
    "df['prediction']=reg.predict(x)\n",
    "df.head()"
   ]
  },
  {
   "cell_type": "code",
   "execution_count": 145,
   "metadata": {},
   "outputs": [
    {
     "data": {
      "text/plain": [
       "<AxesSubplot:xlabel='Depth', ylabel='Price'>"
      ]
     },
     "execution_count": 145,
     "metadata": {},
     "output_type": "execute_result"
    },
    {
     "data": {
      "image/png": "[encoded data removed]",
      "text/plain": [
       "<Figure size 432x288 with 1 Axes>"
      ]
     },
     "metadata": {
      "needs_background": "light"
     },
     "output_type": "display_data"
    }
   ],
   "source": [
    "ax=df.plot(kind='scatter',x='Depth',y='Price')\n",
    "df.plot(x='Depth',y='prediction',ax=ax,color='red',linewidth=1)\n"
   ]
  },
  {
   "cell_type": "code",
   "execution_count": 127,
   "metadata": {},
   "outputs": [
    {
     "data": {
      "image/png": "[encoded data removed]",
      "text/plain": [
       "<Figure size 720x576 with 1 Axes>"
      ]
     },
     "metadata": {
      "needs_background": "light"
     },
     "output_type": "display_data"
    }
   ],
   "source": [
    "ax=df.plot(kind='kde',x='Depth',y='Price',figsize=(10,8))\n",
    "df.plot(kind='kde',x='Depth',y='prediction',ax=ax,color='red',alpha=1,linewidth=4)#alpha use for tranprancey\n",
    "plt.show()"
   ]
  },
  {
   "cell_type": "code",
   "execution_count": 128,
   "metadata": {},
   "outputs": [],
   "source": [
    "from sklearn.metrics import r2_score,mean_absolute_error,mean_squared_error"
   ]
  },
  {
   "cell_type": "code",
   "execution_count": 129,
   "metadata": {},
   "outputs": [
    {
     "data": {
      "text/plain": [
       "0.5816674122530434"
      ]
     },
     "execution_count": 129,
     "metadata": {},
     "output_type": "execute_result"
    }
   ],
   "source": [
    "r2_score(df.Price,df.prediction)"
   ]
  },
  {
   "cell_type": "code",
   "execution_count": 130,
   "metadata": {},
   "outputs": [
    {
     "data": {
      "text/plain": [
       "17.075568150623475"
      ]
     },
     "execution_count": 130,
     "metadata": {},
     "output_type": "execute_result"
    }
   ],
   "source": [
    "mean_absolute_error(df.Price,df.prediction)"
   ]
  },
  {
   "cell_type": "code",
   "execution_count": 131,
   "metadata": {},
   "outputs": [
    {
     "data": {
      "text/plain": [
       "451.50356610143376"
      ]
     },
     "execution_count": 131,
     "metadata": {},
     "output_type": "execute_result"
    }
   ],
   "source": [
    "mean_squared_error(df.Price,df.prediction)"
   ]
  },
  {
   "cell_type": "code",
   "execution_count": 132,
   "metadata": {},
   "outputs": [],
   "source": [
    "from joblib import dump"
   ]
  },
  {
   "cell_type": "code",
   "execution_count": 133,
   "metadata": {},
   "outputs": [
    {
     "data": {
      "text/plain": [
       "['Faltu_model_v3.pkl']"
      ]
     },
     "execution_count": 133,
     "metadata": {},
     "output_type": "execute_result"
    }
   ],
   "source": [
    "dump(reg,\"Faltu_model_v3.pkl\")"
   ]
  },
  {
   "cell_type": "code",
   "execution_count": 134,
   "metadata": {},
   "outputs": [],
   "source": [
    "del x"
   ]
  },
  {
   "cell_type": "code",
   "execution_count": 135,
   "metadata": {},
   "outputs": [],
   "source": [
    "from joblib import load\n"
   ]
  },
  {
   "cell_type": "code",
   "execution_count": 136,
   "metadata": {},
   "outputs": [],
   "source": [
    "reg=load(\"Faltu_model_v3.pkl\")"
   ]
  },
  {
   "cell_type": "code",
   "execution_count": 137,
   "metadata": {},
   "outputs": [
    {
     "name": "stderr",
     "output_type": "stream",
     "text": [
      "C:\\Users\\DELL\\miniconda3\\envs\\digi12\\lib\\site-packages\\sklearn\\base.py:450: UserWarning: X does not have valid feature names, but LinearRegression was fitted with feature names\n",
      "  warnings.warn(\n"
     ]
    },
    {
     "data": {
      "text/plain": [
       "array([[49.30760449],\n",
       "       [49.74291437]])"
      ]
     },
     "execution_count": 137,
     "metadata": {},
     "output_type": "execute_result"
    }
   ],
   "source": [
    "reg.predict([[15],[30]])"
   ]
  }
 ],
 "metadata": {
  "interpreter": {
   "hash": "d1bc28e588f3e01456513975707331157688d95893814c8ed97eb0cd4710202c"
  },
  "kernelspec": {
   "display_name": "Python 3.9.7 ('digi12')",
   "language": "python",
   "name": "python3"
  },
  "language_info": {
   "codemirror_mode": {
    "name": "ipython",
    "version": 3
   },
   "file_extension": ".py",
   "mimetype": "text/x-python",
   "name": "python",
   "nbconvert_exporter": "python",
   "pygments_lexer": "ipython3",
   "version": "3.9.7"
  },
  "orig_nbformat": 4
 },
 "nbformat": 4,
 "nbformat_minor": 2
}
