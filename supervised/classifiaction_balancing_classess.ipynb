{
 "cells": [
  {
   "cell_type": "code",
   "execution_count": null,
   "metadata": {},
   "outputs": [],
   "source": [
    "from sklearn.datasets import load_iris\n",
    "import pandas as pd"
   ]
  },
  {
   "cell_type": "code",
   "execution_count": null,
   "metadata": {},
   "outputs": [],
   "source": [
    "iris=load_iris()\n",
    "df=pd.DataFrame(iris['data'],columns=iris['feature_names'])\n",
    "df"
   ]
  },
  {
   "cell_type": "code",
   "execution_count": null,
   "metadata": {},
   "outputs": [],
   "source": [
    "df['target']=iris.target\n",
    "df"
   ]
  },
  {
   "cell_type": "code",
   "execution_count": null,
   "metadata": {},
   "outputs": [],
   "source": [
    "df.target.value_counts().plot.pie(autopct='%.1f%%')"
   ]
  },
  {
   "cell_type": "code",
   "execution_count": null,
   "metadata": {},
   "outputs": [],
   "source": [
    "from sklearn.naive_bayes import GaussianNB\n",
    "from sklearn.neighbors import KNeighborsClassifier\n",
    "from sklearn.model_selection import train_test_split\n",
    "from sklearn.metrics import classification_report,confusion_matrix\n",
    "import  plotly.express as px"
   ]
  },
  {
   "cell_type": "code",
   "execution_count": null,
   "metadata": {},
   "outputs": [],
   "source": [
    "X= df.iloc[:,:-1]   #[: ,0:-1]\n",
    "y = df.target"
   ]
  },
  {
   "cell_type": "code",
   "execution_count": null,
   "metadata": {},
   "outputs": [],
   "source": [
    "xtrain,xtest,ytrain,ytest=train_test_split(X,y,test_size=.2,random_state=1)\n",
    "clf1=GaussianNB()\n",
    "clf2=KNeighborsClassifier()\n",
    "clf1.fit(xtrain,ytrain)\n",
    "clf2.fit(xtrain,ytrain)\n",
    "ypred1=clf1.predict(X)\n",
    "ypred2=clf2.predict(X)\n",
    "print('confusion matics clf1')\n",
    "print(confusion_matrix(y,ypred1))\n",
    "print('classifaction report clf2')\n",
    "print(classification_report(y,ypred1))\n",
    "print('-'*25)\n",
    "print('confusion matrics clf2')\n",
    "print(confusion_matrix(y,ypred2))\n",
    "print(classification_report(y,ypred2))\n"
   ]
  },
  {
   "cell_type": "markdown",
   "metadata": {},
   "source": [
    "social networking  app"
   ]
  },
  {
   "cell_type": "code",
   "execution_count": null,
   "metadata": {},
   "outputs": [],
   "source": [
    "import matplotlib.pyplot as plt"
   ]
  },
  {
   "cell_type": "code",
   "execution_count": null,
   "metadata": {},
   "outputs": [],
   "source": [
    "df = pd.read_csv('https://raw.githubusercontent.com/digipodium/Datasets/main/Social_Network_Ads.csv')\n",
    "df.head()"
   ]
  },
  {
   "cell_type": "code",
   "execution_count": null,
   "metadata": {},
   "outputs": [],
   "source": [
    "df.Purchased.value_counts().plot.pie(autopct='%.1f%%')"
   ]
  },
  {
   "cell_type": "code",
   "execution_count": null,
   "metadata": {},
   "outputs": [],
   "source": [
    "X=df[['Age','EstimatedSalary']]\n",
    "y=df['Purchased']"
   ]
  },
  {
   "cell_type": "code",
   "execution_count": null,
   "metadata": {},
   "outputs": [],
   "source": [
    "from imblearn.over_sampling import SMOTE,SMOTEN,SVMSMOTE"
   ]
  },
  {
   "cell_type": "code",
   "execution_count": null,
   "metadata": {},
   "outputs": [],
   "source": [
    "sm = [SMOTE(),SMOTEN(),SVMSMOTE()]\n",
    "X1,y1 = sm[0].fit_resample(X,y)\n",
    "X2,y2 = sm[1].fit_resample(X,y)\n",
    "X3,y3 = sm[2].fit_resample(X,y)"
   ]
  },
  {
   "cell_type": "code",
   "execution_count": null,
   "metadata": {},
   "outputs": [],
   "source": [
    "fig, ax = plt.subplots(1,3,figsize=(20,7))\n",
    "ax[0].scatter(X.Age,X.EstimatedSalary,c=y,s=X.Age*5,cmap='cool',edgecolor='black',alpha=.5)\n",
    "ax[1].scatter(X1.Age,X1.EstimatedSalary,c=y1,s=X1.Age*5,cmap='cool',edgecolor='black',alpha=.5)\n",
    "ax[2].scatter(X2.Age,X2.EstimatedSalary,c=y2,s=X2.Age*5,cmap='cool',edgecolor='black',alpha=.5)\n",
    "plt.show()"
   ]
  },
  {
   "cell_type": "code",
   "execution_count": null,
   "metadata": {},
   "outputs": [],
   "source": [
    "from sklearn.preprocessing import StandardScaler\n",
    "from sklearn.linear_model import LogisticRegression\n",
    "from sklearn.metrics import classification_report\n",
    "from sklearn.metrics import confusion_matrix\n",
    "from sklearn.ensemble import RandomForestClassifier"
   ]
  },
  {
   "cell_type": "code",
   "execution_count": null,
   "metadata": {},
   "outputs": [],
   "source": [
    "scaler = StandardScaler()\n",
    "scaledX = scaler.fit_transform(X)\n",
    "xtrain, xtest, ytrain, ytest = train_test_split(scaledX,y,test_size=.2,random_state=1234)\n",
    "m = LogisticRegression()\n",
    "m.fit(xtrain, ytrain)\n",
    "ypred = m.predict(xtest)\n",
    "cm = confusion_matrix(ytest, ypred)\n",
    "print(cm)\n",
    "print(classification_report(ytest,ypred))"
   ]
  },
  {
   "cell_type": "code",
   "execution_count": null,
   "metadata": {},
   "outputs": [],
   "source": [
    "scaler = StandardScaler()\n",
    "scaledX = scaler.fit_transform(X1)\n",
    "xtrain, xtest, ytrain, ytest = train_test_split(scaledX,y1,test_size=.2,random_state=1234)\n",
    "m = LogisticRegression()\n",
    "m.fit(xtrain, ytrain)\n",
    "ypred = m.predict(xtest)\n",
    "cm = confusion_matrix(ytest, ypred)\n",
    "print(cm)\n",
    "print(classification_report(ytest,ypred))"
   ]
  },
  {
   "cell_type": "code",
   "execution_count": null,
   "metadata": {},
   "outputs": [],
   "source": [
    "scaler = StandardScaler()\n",
    "scaledX = scaler.fit_transform(X2)\n",
    "xtrain, xtest, ytrain, ytest = train_test_split(scaledX,y2,test_size=.2,random_state=1234)\n",
    "m = LogisticRegression()\n",
    "m.fit(xtrain, ytrain)\n",
    "ypred = m.predict(xtest)\n",
    "cm = confusion_matrix(ytest, ypred)\n",
    "print(cm)\n",
    "print(classification_report(ytest,ypred))"
   ]
  },
  {
   "cell_type": "code",
   "execution_count": null,
   "metadata": {},
   "outputs": [],
   "source": [
    "scaler = StandardScaler()\n",
    "scaledX = scaler.fit_transform(X3)\n",
    "xtrain, xtest, ytrain, ytest = train_test_split(scaledX,y3,test_size=.2,random_state=1234)\n",
    "m = LogisticRegression()\n",
    "m.fit(xtrain, ytrain)\n",
    "ypred = m.predict(xtest)\n",
    "cm = confusion_matrix(ytest, ypred)\n",
    "print(cm)\n",
    "print(classification_report(ytest,ypred))"
   ]
  },
  {
   "cell_type": "code",
   "execution_count": null,
   "metadata": {},
   "outputs": [],
   "source": [
    "from sklearn.pipeline import Pipeline\n",
    "p = Pipeline([('scaler',StandardScaler()),('model',RandomForestClassifier(n_estimators=400))])\n",
    "p.fit(xtrain,ytrain)\n",
    "ypred = p.predict(xtest)    \n",
    "cm = confusion_matrix(ytest, ypred)\n",
    "print(cm)\n",
    "print(classification_report(ytest,ypred))"
   ]
  },
  {
   "cell_type": "code",
   "execution_count": null,
   "metadata": {},
   "outputs": [],
   "source": [
    "from joblib import dump"
   ]
  },
  {
   "cell_type": "code",
   "execution_count": null,
   "metadata": {},
   "outputs": [],
   "source": [
    "model_dict={\n",
    "    'title':'classification model for ad click prediction',\n",
    "    'classifier':m,\n",
    "    'scaler':scaler,\n",
    "}\n",
    "\n",
    "dump(model_dict, \"clf_ap.pkl\")"
   ]
  },
  {
   "cell_type": "code",
   "execution_count": null,
   "metadata": {},
   "outputs": [],
   "source": []
  }
 ],
 "metadata": {
  "interpreter": {
   "hash": "d1bc28e588f3e01456513975707331157688d95893814c8ed97eb0cd4710202c"
  },
  "kernelspec": {
   "display_name": "Python 3.9.7 ('digi12')",
   "language": "python",
   "name": "python3"
  },
  "language_info": {
   "codemirror_mode": {
    "name": "ipython",
    "version": 3
   },
   "file_extension": ".py",
   "mimetype": "text/x-python",
   "name": "python",
   "nbconvert_exporter": "python",
   "pygments_lexer": "ipython3",
   "version": "3.9.7"
  },
  "orig_nbformat": 4
 },
 "nbformat": 4,
 "nbformat_minor": 2
}
