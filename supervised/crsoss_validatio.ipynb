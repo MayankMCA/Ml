{
 "cells": [
  {
   "cell_type": "markdown",
   "metadata": {},
   "source": [
    "#whole data\n",
    "1. freature column /output column\n",
    "3.Xtrain(training data)/xtest\n",
    "4.ytrain(training data)/ytest"
   ]
  },
  {
   "cell_type": "code",
   "execution_count": 63,
   "metadata": {},
   "outputs": [],
   "source": [
    "import pandas as pd\n",
    "import matplotlib.pyplot as plt\n",
    "import numpy as np\n",
    "from sklearn.tree import DecisionTreeRegressor \n",
    "from sklearn.linear_model import LinearRegression\n",
    "from sklearn.model_selection import train_test_split \n",
    "from sklearn.ensemble import RandomForestRegressor\n",
    "from sklearn.metrics import mean_absolute_error,mean_squared_error\n",
    "from sklearn.model_selection import cross_val_score\n",
    "\n",
    "from joblib import dump,load\n",
    "import plotly.express as px"
   ]
  },
  {
   "cell_type": "code",
   "execution_count": 64,
   "metadata": {},
   "outputs": [
    {
     "name": "stdout",
     "output_type": "stream",
     "text": [
      "<class 'pandas.core.frame.DataFrame'>\n",
      "RangeIndex: 814 entries, 0 to 813\n",
      "Data columns (total 6 columns):\n",
      " #   Column      Non-Null Count  Dtype  \n",
      "---  ------      --------------  -----  \n",
      " 0   City        814 non-null    object \n",
      " 1   Type        814 non-null    object \n",
      " 2   Beds        814 non-null    int64  \n",
      " 3   Baths       814 non-null    int64  \n",
      " 4   SquareFeet  814 non-null    int64  \n",
      " 5   Price       814 non-null    float64\n",
      "dtypes: float64(1), int64(3), object(2)\n",
      "memory usage: 38.3+ KB\n"
     ]
    },
    {
     "data": {
      "text/html": [
       "<div>\n",
       "<style scoped>\n",
       "    .dataframe tbody tr th:only-of-type {\n",
       "        vertical-align: middle;\n",
       "    }\n",
       "\n",
       "    .dataframe tbody tr th {\n",
       "        vertical-align: top;\n",
       "    }\n",
       "\n",
       "    .dataframe thead th {\n",
       "        text-align: right;\n",
       "    }\n",
       "</style>\n",
       "<table border=\"1\" class=\"dataframe\">\n",
       "  <thead>\n",
       "    <tr style=\"text-align: right;\">\n",
       "      <th></th>\n",
       "      <th>City</th>\n",
       "      <th>Type</th>\n",
       "      <th>Beds</th>\n",
       "      <th>Baths</th>\n",
       "      <th>SquareFeet</th>\n",
       "      <th>Price</th>\n",
       "    </tr>\n",
       "  </thead>\n",
       "  <tbody>\n",
       "    <tr>\n",
       "      <th>0</th>\n",
       "      <td>SACRAMENTO</td>\n",
       "      <td>Residential</td>\n",
       "      <td>2</td>\n",
       "      <td>1</td>\n",
       "      <td>836</td>\n",
       "      <td>138159.85</td>\n",
       "    </tr>\n",
       "    <tr>\n",
       "      <th>1</th>\n",
       "      <td>SACRAMENTO</td>\n",
       "      <td>Residential</td>\n",
       "      <td>3</td>\n",
       "      <td>1</td>\n",
       "      <td>1167</td>\n",
       "      <td>167541.46</td>\n",
       "    </tr>\n",
       "    <tr>\n",
       "      <th>2</th>\n",
       "      <td>SACRAMENTO</td>\n",
       "      <td>Residential</td>\n",
       "      <td>2</td>\n",
       "      <td>1</td>\n",
       "      <td>796</td>\n",
       "      <td>119095.12</td>\n",
       "    </tr>\n",
       "  </tbody>\n",
       "</table>\n",
       "</div>"
      ],
      "text/plain": [
       "         City         Type  Beds  Baths  SquareFeet      Price\n",
       "0  SACRAMENTO  Residential     2      1         836  138159.85\n",
       "1  SACRAMENTO  Residential     3      1        1167  167541.46\n",
       "2  SACRAMENTO  Residential     2      1         796  119095.12"
      ]
     },
     "execution_count": 64,
     "metadata": {},
     "output_type": "execute_result"
    }
   ],
   "source": [
    "df=pd.read_csv(\"https://raw.githubusercontent.com/digipodium/Datasets/main/house_pricing.csv\")\n",
    "df.info()\n",
    "df.head(3)"
   ]
  },
  {
   "cell_type": "code",
   "execution_count": 65,
   "metadata": {},
   "outputs": [],
   "source": [
    "X =df[['Beds','Baths','SquareFeet']]\n",
    "y =df['Price']\n",
    "xtrain,xtest,ytrain,ytest=train_test_split(X,y,test_size=.2,random_state=1)"
   ]
  },
  {
   "cell_type": "code",
   "execution_count": 66,
   "metadata": {},
   "outputs": [
    {
     "name": "stdout",
     "output_type": "stream",
     "text": [
      "Descission tree\n",
      "score: 59.50827730493026\n",
      "mse 730931782.6408733\n",
      "mae 7831.542909500409\n"
     ]
    }
   ],
   "source": [
    "print('Descission tree')\n",
    "model1=DecisionTreeRegressor(max_depth=25)\n",
    "model1.fit(xtrain,ytrain)\n",
    "print(\"score:\",model1.score(xtest,ytest) *100)\n",
    "pred=model1.predict(X)\n",
    "print(\"mse\",mean_squared_error(y,pred))\n",
    "print(\"mae\",mean_absolute_error(y,pred))\n"
   ]
  },
  {
   "cell_type": "code",
   "execution_count": 71,
   "metadata": {},
   "outputs": [
    {
     "name": "stdout",
     "output_type": "stream",
     "text": [
      "Random_forest_tree\n",
      "score: 72.1499786661282\n",
      "mse 868245774.4376773\n",
      "mae 15126.381535290555\n"
     ]
    }
   ],
   "source": [
    "print('Random_forest_tree')\n",
    "model2=RandomForestRegressor(max_depth=25)\n",
    "model2.fit(xtrain,ytrain)\n",
    "print(\"score:\",model2.score(xtest,ytest) *100)\n",
    "pred=model2.predict(X)\n",
    "print(\"mse\",mean_squared_error(y,pred))\n",
    "print(\"mae\",mean_absolute_error(y,pred))\n"
   ]
  },
  {
   "cell_type": "code",
   "execution_count": 68,
   "metadata": {},
   "outputs": [
    {
     "name": "stdout",
     "output_type": "stream",
     "text": [
      "Linear regression\n",
      "score: 76.88526015771397\n",
      "mse 2603958160.0270896\n",
      "mae 26712.290980750746\n"
     ]
    }
   ],
   "source": [
    "print('Linear regression')\n",
    "model3=LinearRegression()\n",
    "model3.fit(xtrain,ytrain)\n",
    "print(\"score:\",model3.score(xtest,ytest) *100)\n",
    "pred=model3.predict(X)\n",
    "print(\"mse\",mean_squared_error(y,pred))\n",
    "print(\"mae\",mean_absolute_error(y,pred))\n"
   ]
  },
  {
   "cell_type": "markdown",
   "metadata": {},
   "source": [
    "### cross validation"
   ]
  },
  {
   "cell_type": "code",
   "execution_count": 70,
   "metadata": {},
   "outputs": [
    {
     "name": "stdout",
     "output_type": "stream",
     "text": [
      "[ 0.37683672  0.64719311  0.35385863  0.61851101 -0.45302427  0.44949401\n",
      " -1.2793847   0.12932235  0.4472413   0.09151817] average:0.14 std:0.56\n"
     ]
    }
   ],
   "source": [
    "Descission_score=cross_val_score(model1,X,y,cv=10)\n",
    "print(Descission_score,f\"average:{Descission_score.mean():.2f}\",f\"std:{Descission_score.std():.2f}\")\n"
   ]
  },
  {
   "cell_type": "code",
   "execution_count": 72,
   "metadata": {},
   "outputs": [
    {
     "name": "stdout",
     "output_type": "stream",
     "text": [
      "[0.68395532 0.88372625 0.64913869 0.76072242 0.57165039 0.61307964\n",
      " 0.73234352 0.3535619  0.39880021 0.63045145] average:0.63 std:0.15\n"
     ]
    }
   ],
   "source": [
    "Random_forest_tree=cross_val_score(model3,X,y,cv=10)\n",
    "print(Random_forest_tree,f\"average:{Random_forest_tree.mean():.2f}\",f\"std:{Random_forest_tree.std():.2f}\")"
   ]
  },
  {
   "cell_type": "code",
   "execution_count": null,
   "metadata": {},
   "outputs": [
    {
     "name": "stdout",
     "output_type": "stream",
     "text": [
      "[0.68395532 0.88372625 0.64913869 0.76072242 0.57165039 0.61307964\n",
      " 0.73234352 0.3535619  0.39880021 0.63045145] average:0.63 std:0.15\n"
     ]
    }
   ],
   "source": [
    "linear_score=cross_val_score(model3,X,y,cv=10)\n",
    "print(linear_score,f\"average:{tree_score.mean():.2f}\",f\"std:{linear_score.std():.2f}\")"
   ]
  },
  {
   "cell_type": "code",
   "execution_count": null,
   "metadata": {},
   "outputs": [],
   "source": [
    "px.scatter_3d(df,x='Beds',y='SquareFeet',z='Baths',color='Price')"
   ]
  },
  {
   "cell_type": "code",
   "execution_count": null,
   "metadata": {},
   "outputs": [],
   "source": []
  }
 ],
 "metadata": {
  "interpreter": {
   "hash": "d1bc28e588f3e01456513975707331157688d95893814c8ed97eb0cd4710202c"
  },
  "kernelspec": {
   "display_name": "Python 3.9.7 ('digi12')",
   "language": "python",
   "name": "python3"
  },
  "language_info": {
   "codemirror_mode": {
    "name": "ipython",
    "version": 3
   },
   "file_extension": ".py",
   "mimetype": "text/x-python",
   "name": "python",
   "nbconvert_exporter": "python",
   "pygments_lexer": "ipython3",
   "version": "3.9.7"
  },
  "orig_nbformat": 4
 },
 "nbformat": 4,
 "nbformat_minor": 2
}
